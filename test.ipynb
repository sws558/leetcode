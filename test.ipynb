{
 "cells": [
  {
   "cell_type": "code",
   "execution_count": 7,
   "outputs": [],
   "source": [
    "list=[10,5,11,4,0,0,0,0]\n",
    "list2=[5,6,7,8]"
   ],
   "metadata": {
    "collapsed": false,
    "ExecuteTime": {
     "end_time": "2024-03-14T08:16:02.564216300Z",
     "start_time": "2024-03-14T08:16:02.557399600Z"
    }
   },
   "id": "955ad95db43775fc"
  },
  {
   "cell_type": "code",
   "execution_count": 9,
   "outputs": [
    {
     "name": "stdout",
     "output_type": "stream",
     "text": [
      "[10, 5, 11, 4, 5, 6, 7, 8]\n"
     ]
    }
   ],
   "source": [
    "list[4:]=list2\n",
    "print(list)"
   ],
   "metadata": {
    "collapsed": false,
    "ExecuteTime": {
     "end_time": "2024-03-14T08:16:12.881447400Z",
     "start_time": "2024-03-14T08:16:12.864610900Z"
    }
   },
   "id": "e80fcd53f2082a52"
  },
  {
   "cell_type": "code",
   "execution_count": 10,
   "outputs": [
    {
     "name": "stdout",
     "output_type": "stream",
     "text": [
      "[4, 5, 5, 6, 7, 8, 10, 11]\n"
     ]
    }
   ],
   "source": [
    "list.sort()\n",
    "print(list)"
   ],
   "metadata": {
    "collapsed": false,
    "ExecuteTime": {
     "end_time": "2024-03-14T08:16:31.963871600Z",
     "start_time": "2024-03-14T08:16:31.954260700Z"
    }
   },
   "id": "a42810123d4809ae"
  },
  {
   "cell_type": "code",
   "execution_count": 4,
   "outputs": [
    {
     "name": "stdout",
     "output_type": "stream",
     "text": [
      "[2, 2, 0, 0]\n"
     ]
    }
   ],
   "source": [
    "nums=[3,2,2,3]\n",
    "nums=[0 if x==3 else x for x in nums]\n",
    "nums.sort(reverse=True)\n",
    "print(nums) "
   ],
   "metadata": {
    "collapsed": false,
    "ExecuteTime": {
     "end_time": "2024-03-14T09:29:57.586388800Z",
     "start_time": "2024-03-14T09:29:57.571967800Z"
    }
   },
   "id": "15bb3d711e4e96de"
  },
  {
   "cell_type": "code",
   "execution_count": 5,
   "outputs": [
    {
     "name": "stdout",
     "output_type": "stream",
     "text": [
      "0\n",
      "1\n",
      "2\n",
      "3\n"
     ]
    }
   ],
   "source": [
    "nums=[3,2,2,3]\n",
    "for i in range(len(nums)):\n",
    "    print(i)"
   ],
   "metadata": {
    "collapsed": false,
    "ExecuteTime": {
     "end_time": "2024-03-14T09:30:26.041910900Z",
     "start_time": "2024-03-14T09:30:26.016132900Z"
    }
   },
   "id": "36c744e70d2877cc"
  }
 ],
 "metadata": {
  "kernelspec": {
   "name": "leetcode",
   "language": "python",
   "display_name": "leetcode"
  },
  "language_info": {
   "codemirror_mode": {
    "name": "ipython",
    "version": 2
   },
   "file_extension": ".py",
   "mimetype": "text/x-python",
   "name": "python",
   "nbconvert_exporter": "python",
   "pygments_lexer": "ipython2",
   "version": "2.7.6"
  }
 },
 "nbformat": 4,
 "nbformat_minor": 5
}
